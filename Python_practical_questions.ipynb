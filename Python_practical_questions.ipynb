{
 "cells": [
  {
   "cell_type": "markdown",
   "id": "c361ac1c",
   "metadata": {},
   "source": [
    "## Python Practical Questions\n",
    "\n",
    "1) Reverse a string without using slicing.\n",
    "2) Write a function to check if a string is a palindrome.\n",
    "3) Implement a function that returns the second largest number in a\n",
    "list.\n",
    "4) Write a function that counts the number of vowels in a string.\n",
    "5) Create a function that removes duplicates from a list while\n",
    "preserving order.\n",
    "6) Write a function to flatten a nested list.\n"
   ]
  },
  {
   "cell_type": "markdown",
   "id": "559f98ec",
   "metadata": {},
   "source": [
    "#### Reverse a string without using slicing.\n"
   ]
  },
  {
   "cell_type": "code",
   "execution_count": 1,
   "id": "4baf8817",
   "metadata": {},
   "outputs": [],
   "source": [
    "def reverse_string(s):\n",
    "    reversed_str = \"\"\n",
    "    for char in s:\n",
    "        reversed_str = char + reversed_str\n",
    "\n",
    "    return reversed_str"
   ]
  },
  {
   "cell_type": "code",
   "execution_count": 2,
   "id": "b3a0e76a",
   "metadata": {},
   "outputs": [
    {
     "data": {
      "text/plain": [
       "'seigolonhceT xirtxenI'"
      ]
     },
     "execution_count": 2,
     "metadata": {},
     "output_type": "execute_result"
    }
   ],
   "source": [
    "## output \n",
    "s = \"Inextrix Technologies\"\n",
    "reverse_string(s)"
   ]
  },
  {
   "cell_type": "markdown",
   "id": "2f3e2e3a",
   "metadata": {},
   "source": [
    "#### Write a function to check if a string is a palindrome."
   ]
  },
  {
   "cell_type": "code",
   "execution_count": 3,
   "id": "2c4997b0",
   "metadata": {},
   "outputs": [
    {
     "data": {
      "text/plain": [
       "False"
      ]
     },
     "execution_count": 3,
     "metadata": {},
     "output_type": "execute_result"
    }
   ],
   "source": [
    "## type - 1\n",
    "def string_palindrome(s):\n",
    "    return s == reverse_string(s)   ## I have used the privious reverse sting function here to reverse the string\n",
    "\n",
    "s = \"gopal\"  # Not a\n",
    "string_palindrome(s)"
   ]
  },
  {
   "cell_type": "code",
   "execution_count": 4,
   "id": "52b7de6c",
   "metadata": {},
   "outputs": [
    {
     "data": {
      "text/plain": [
       "True"
      ]
     },
     "execution_count": 4,
     "metadata": {},
     "output_type": "execute_result"
    }
   ],
   "source": [
    "s = \"malayalam\"  # Palindrome\n",
    "string_palindrome(s)"
   ]
  },
  {
   "cell_type": "code",
   "execution_count": 5,
   "id": "25f563c6",
   "metadata": {},
   "outputs": [
    {
     "data": {
      "text/plain": [
       "True"
      ]
     },
     "execution_count": 5,
     "metadata": {},
     "output_type": "execute_result"
    }
   ],
   "source": [
    "## type - 2\n",
    "def is_palinrome(s):\n",
    "    s1 = ''.join(char.lower() for char in s if char.isalnum())\n",
    "    return s1 == s1[::-1]\n",
    "\n",
    "is_palinrome(\"malayalam , malayalam\")\n",
    "            "
   ]
  },
  {
   "cell_type": "markdown",
   "id": "1f8206c8",
   "metadata": {},
   "source": [
    "#### Implement a function that returns the second largest number in a list."
   ]
  },
  {
   "cell_type": "code",
   "execution_count": 6,
   "id": "a7852686",
   "metadata": {},
   "outputs": [
    {
     "data": {
      "text/plain": [
       "4"
      ]
     },
     "execution_count": 6,
     "metadata": {},
     "output_type": "execute_result"
    }
   ],
   "source": [
    "def second_largest(nums):\n",
    "    unique_nums = list(set(nums))  # remove duplicates\n",
    "    if len(unique_nums) < 2:\n",
    "        return None  # no second largest\n",
    "    unique_nums.sort(reverse=True)\n",
    "    return unique_nums[1]\n",
    "\n",
    "second_largest([1,2,3,4,5])"
   ]
  },
  {
   "cell_type": "code",
   "execution_count": 7,
   "id": "00102d6b",
   "metadata": {},
   "outputs": [
    {
     "name": "stdout",
     "output_type": "stream",
     "text": [
      "there is no second largest number in give list\n"
     ]
    }
   ],
   "source": [
    "def second_largest(nums):\n",
    "    first = second = float('-inf')  # Initialize first and second largest to negative infinity\n",
    "    for n in nums:\n",
    "        if n > first:\n",
    "            second = first\n",
    "            first = n\n",
    "        elif first > n > second:\n",
    "            second = n\n",
    "    if second != float('-inf'):\n",
    "        return second\n",
    "    else: \n",
    "        print(\"there is no second largest number in give list\")\n",
    "\n",
    "second_largest([4,4])"
   ]
  },
  {
   "cell_type": "markdown",
   "id": "a75e7b2f",
   "metadata": {},
   "source": [
    "#### Write a function that counts the number of vowels in a string."
   ]
  },
  {
   "cell_type": "code",
   "execution_count": 8,
   "id": "85025fa4",
   "metadata": {},
   "outputs": [
    {
     "data": {
      "text/plain": [
       "8"
      ]
     },
     "execution_count": 8,
     "metadata": {},
     "output_type": "execute_result"
    }
   ],
   "source": [
    "def count_of_vowels(s):\n",
    "    cunt = 0\n",
    "    vowels = \"aeiouAEIOU\"\n",
    "    \n",
    "    for char in s:\n",
    "        if char in vowels:\n",
    "            cunt +=1\n",
    "    \n",
    "    return cunt\n",
    "count_of_vowels(\"Inextrix Technologies\")"
   ]
  },
  {
   "cell_type": "markdown",
   "id": "aae3bb03",
   "metadata": {},
   "source": [
    "#### Create a function that removes duplicates from a list while preserving order."
   ]
  },
  {
   "cell_type": "code",
   "execution_count": 9,
   "id": "1e3f9edf",
   "metadata": {},
   "outputs": [
    {
     "data": {
      "text/plain": [
       "[1, 3, 4, 5]"
      ]
     },
     "execution_count": 9,
     "metadata": {},
     "output_type": "execute_result"
    }
   ],
   "source": [
    "def remove_dublicate(nums):\n",
    "    seen = set()  # set to track items already seen\n",
    "    result = []   # Final list without duplicates\n",
    "    for item in nums:\n",
    "        if item not in seen:\n",
    "            seen.add(item)\n",
    "            result.append(item)\n",
    "    return result\n",
    "    \n",
    "remove_dublicate([1,3,4,3,5,5,1])    \n"
   ]
  },
  {
   "cell_type": "markdown",
   "id": "3233c5dc",
   "metadata": {},
   "source": [
    "#### Write a function to flatten a nested list."
   ]
  },
  {
   "cell_type": "code",
   "execution_count": 10,
   "id": "282b82cc",
   "metadata": {},
   "outputs": [],
   "source": [
    "def flatten(nums):\n",
    "    flat_list = []    # Final flattened list\n",
    "    for item in nums:\n",
    "        if isinstance(item, list): # if item is itself list we can recurse \n",
    "            flat_list.extend(flatten(item))  # Add all flattened items from the sublist\n",
    "        else:\n",
    "            flat_list.append(item)           # If item is not a list, add it directly\n",
    "\n",
    "    return flat_list "
   ]
  }
 ],
 "metadata": {
  "kernelspec": {
   "display_name": "base",
   "language": "python",
   "name": "python3"
  },
  "language_info": {
   "codemirror_mode": {
    "name": "ipython",
    "version": 3
   },
   "file_extension": ".py",
   "mimetype": "text/x-python",
   "name": "python",
   "nbconvert_exporter": "python",
   "pygments_lexer": "ipython3",
   "version": "3.11.7"
  }
 },
 "nbformat": 4,
 "nbformat_minor": 5
}
